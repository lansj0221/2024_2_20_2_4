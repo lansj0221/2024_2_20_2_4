{
 "cells": [
  {
   "cell_type": "code",
   "execution_count": 15,
   "metadata": {},
   "outputs": [
    {
     "name": "stdout",
     "output_type": "stream",
     "text": [
      "奇數\n"
     ]
    }
   ],
   "source": [
    "#判斷奇偶數\n",
    "X=int(input('請輸入正整數:'))\n",
    "if (X % 2 == 0):\n",
    "    print(\"偶數\")\n",
    "else:\n",
    "    print(\"奇數\")"
   ]
  },
  {
   "cell_type": "code",
   "execution_count": 9,
   "metadata": {},
   "outputs": [
    {
     "name": "stdout",
     "output_type": "stream",
     "text": [
      "不在範圍內\n"
     ]
    }
   ],
   "source": [
    "#判斷四季\n",
    "month=int(input('請輸入月份:'))\n",
    "if(1<=month<3 or month==12):\n",
    "    print(str(month)+\"月是冬天\")\n",
    "elif(3<=month<6):\n",
    "    print(str(month)+\"月是春天\")\n",
    "elif(6<=month<9):\n",
    "    print(str(month)+\"月是夏天\")\n",
    "elif(9<=month<12):\n",
    "    print(str(month)+\"月是秋天\")    \n",
    "else:\n",
    "    print('不在範圍內')"
   ]
  },
  {
   "cell_type": "code",
   "execution_count": 18,
   "metadata": {},
   "outputs": [
    {
     "name": "stdout",
     "output_type": "stream",
     "text": [
      "姓名:徐xx, BMI:24.62,過重\n",
      "姓名:王xx, BMI:15.94,體重過輕\n",
      "姓名:張xx, BMI:23.29,正常範圍\n"
     ]
    }
   ],
   "source": [
    "source:list[dict] = [\n",
    "{'name':'徐xx','height':178,'weight':78},\n",
    "{'name':'王xx','height':168,'weight':45},\n",
    "{'name':'張xx','height':183,'weight':78},\n",
    "]\n",
    "\n",
    "for data in source:\n",
    "    bmi:float = data['weight'] / (data['height'] / 100) ** 2 \n",
    "    if bmi<18.5:\n",
    "        x=\"體重過輕\"\n",
    "    elif bmi<24:\n",
    "        x=\"正常範圍\"\n",
    "    elif bmi<27 :\n",
    "        x=\"過重\"\n",
    "    elif bmi<30 :\n",
    "        x=\"輕度肥胖\"\n",
    "    elif bmi<35 :\n",
    "        x=\"中度肥胖\"\n",
    "    else :\n",
    "        x=\"重度肥胖\"\n",
    "    print(f'姓名:{data[\"name\"]}, BMI:{bmi:.2f},{x}')\n"
   ]
  },
  {
   "cell_type": "code",
   "execution_count": 22,
   "metadata": {},
   "outputs": [
    {
     "name": "stdout",
     "output_type": "stream",
     "text": [
      "姓名:徐xx,身高:178.0cm,體重:78.0kg,BMI:24.62,過重\n",
      "=============\n",
      "姓名:王xx,身高:168.0cm,體重:75.0kg,BMI:26.57,過重\n",
      "=============\n",
      "姓名:張xx,身高:183.0cm,體重:78.0kg,BMI:23.29,正常範圍\n",
      "=============\n"
     ]
    }
   ],
   "source": [
    "from pydantic import BaseModel,RootModel\n",
    "\n",
    "source:list[dict]= [\n",
    "    {'name':'徐xx','height':178,'weight':78},\n",
    "    {'name':'王xx','height':168,'weight':75},\n",
    "    {'name':'張xx','height':183,'weight':78},\n",
    "]\n",
    "\n",
    "class health(BaseModel):\n",
    "    name:str\n",
    "    height:float\n",
    "    weight:float\n",
    "\n",
    "    @property\n",
    "    def bmi(self) -> float:\n",
    "        return round(self.weight /(self.height/100)**2,ndigits=2) \n",
    "    @property\n",
    "    def msg(self):\n",
    "        if self.bmi < 18.5:\n",
    "            return '體重過輕'\n",
    "        elif self.bmi < 24:\n",
    "            return '正常範圍'\n",
    "        elif self.bmi < 27:\n",
    "            return '過重'\n",
    "        elif self.bmi < 30:\n",
    "            return '輕度肥胖'\n",
    "        elif self.bmi < 35:\n",
    "            return '中度肥胖'\n",
    "        else:\n",
    "            return '重度肥胖'\n",
    "    \n",
    "class AllSource(RootModel):\n",
    "    root:list[health]\n",
    "\n",
    "    def __iter__(self):\n",
    "        return iter(self.root)\n",
    "    \n",
    "    def __getitem__(self,item):\n",
    "        return self.root[item]\n",
    "    \n",
    "Datas:AllSource = AllSource.model_validate(source)\n",
    "\n",
    "for Data in Datas:\n",
    "    print(f'姓名:{Data.name},身高:{Data.height}cm,體重:{Data.weight}kg,BMI:{Data.bmi},{Data.msg}')\n",
    "    print(\"=============\")"
   ]
  },
  {
   "cell_type": "code",
   "execution_count": 14,
   "metadata": {},
   "outputs": [
    {
     "name": "stdout",
     "output_type": "stream",
     "text": [
      "姓名:徐xx, 身高:178.0公分, 體重:78.0公斤, BMI:24.62, 過重\n",
      "===========================================================\n",
      "姓名:王xx, 身高:168.0公分, 體重:45.0公斤, BMI:15.94, 體重過輕\n",
      "===========================================================\n",
      "姓名:張xx, 身高:183.0公分, 體重:78.0公斤, BMI:23.29, 正常範圍\n",
      "===========================================================\n"
     ]
    }
   ],
   "source": [
    "from pydantic import BaseModel,RootModel\n",
    "\n",
    "source:list[dict] = [\n",
    "    {'name':'徐xx','height':178,'weight':78},\n",
    "    {'name':'王xx','height':168,'weight':45},\n",
    "    {'name':'張xx','height':183,'weight':78},\n",
    "]\n",
    "\n",
    "class Review(BaseModel):\n",
    "    name:str\n",
    "    height:float\n",
    "    weight:float\n",
    "\n",
    "    @property\n",
    "    def bmi(self) -> float:\n",
    "        return round(self.weight / (self.height / 100) ** 2, ndigits=2)\n",
    "    \n",
    "    @property\n",
    "    def msg(self) -> str:\n",
    "        if self.bmi < 18.5:\n",
    "            return '體重過輕'\n",
    "        elif self.bmi < 24:\n",
    "            return '正常範圍'\n",
    "        elif self.bmi < 27:\n",
    "            return '過重'\n",
    "        elif self.bmi < 30:\n",
    "            return '輕度肥胖'\n",
    "        elif self.bmi < 35:\n",
    "            return '中度肥胖'\n",
    "        else:\n",
    "            return '重度肥胖'\n",
    "\n",
    "class AllSource(RootModel):\n",
    "    root:list[Review]\n",
    "\n",
    "    def __iter__(self):\n",
    "        return iter(self.root)\n",
    "    \n",
    "    def __getitem__(self,item):\n",
    "        return self.root[item]\n",
    "\n",
    "Datas:AllSource = AllSource.model_validate(source)\n",
    "\n",
    "for Data in Datas:\n",
    "    print(f'姓名:{Data.name}, 身高:{Data.height}公分, 體重:{Data.weight}公斤, BMI:{Data.bmi}, {Data.msg}')\n",
    "    print(\"===========================================================\")"
   ]
  },
  {
   "cell_type": "code",
   "execution_count": 1,
   "metadata": {},
   "outputs": [
    {
     "name": "stdout",
     "output_type": "stream",
     "text": [
      "徐xx 24.62 過重\n",
      "王xx 26.57 過重\n",
      "張xx 23.29 正常範圍\n"
     ]
    }
   ],
   "source": [
    "from pydantic import BaseModel,RootModel\n",
    "names = [\n",
    "    {'name':'徐xx','height':178,'weight':78},\n",
    "    {'name':'王xx','height':168,'weight':75},\n",
    "    {'name':'張xx','height':183,'weight':78},\n",
    "]\n",
    "class data(BaseModel):\n",
    "    name:str\n",
    "    height:int\n",
    "    weight:int\n",
    "    bmi:float=0\n",
    "    bmi_:str=\"\"\n",
    "    \n",
    "    def f(self):\n",
    "        self.bmi=self.weight/(self.height/100)**2\n",
    "        if self.bmi<18.5:\n",
    "            self.bmi_=\"體重過輕\"\n",
    "        elif self.bmi<24:\n",
    "            self.bmi_=\"正常範圍\"\n",
    "        elif self.bmi<27 :\n",
    "            self.bmi_=\"過重\"\n",
    "        elif self.bmi<30 :\n",
    "            self.bmi_=\"輕度肥胖\"\n",
    "        elif self.bmi<35 :\n",
    "            self.bmi_=\"中度肥胖\"\n",
    "        else :\n",
    "            self.bmi_=\"重度肥胖\"\n",
    "        \n",
    "\n",
    "class AllData(RootModel):\n",
    "    root:list[data]\n",
    "    def __iter__(self):\n",
    "        return iter(self.root)\n",
    "    def __getitem__(self,indext):\n",
    "        return self.root[indext]\n",
    "\n",
    "guy:AllData=AllData.model_validate(names)\n",
    "for i in guy:\n",
    "    i.f()\n",
    "    print(f\"{i.name} {i.bmi:.2f} {i.bmi_}\")"
   ]
  }
 ],
 "metadata": {
  "kernelspec": {
   "display_name": "Python 3",
   "language": "python",
   "name": "python3"
  },
  "language_info": {
   "codemirror_mode": {
    "name": "ipython",
    "version": 3
   },
   "file_extension": ".py",
   "mimetype": "text/x-python",
   "name": "python",
   "nbconvert_exporter": "python",
   "pygments_lexer": "ipython3",
   "version": "3.10.13"
  }
 },
 "nbformat": 4,
 "nbformat_minor": 2
}
