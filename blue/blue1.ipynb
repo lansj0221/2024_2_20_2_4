{
 "cells": [
  {
   "cell_type": "code",
   "execution_count": 15,
   "metadata": {},
   "outputs": [
    {
     "name": "stdout",
     "output_type": "stream",
     "text": [
      "奇數\n"
     ]
    }
   ],
   "source": [
    "#判斷奇偶數\n",
    "X=int(input('請輸入正整數:'))\n",
    "if (X % 2 == 0):\n",
    "    print(\"偶數\")\n",
    "else:\n",
    "    print(\"奇數\")"
   ]
  },
  {
   "cell_type": "code",
   "execution_count": 21,
   "metadata": {},
   "outputs": [
    {
     "name": "stdout",
     "output_type": "stream",
     "text": [
      "3月是春天\n"
     ]
    }
   ],
   "source": [
    "#判斷四季\n",
    "month=int(input('請輸入月份:'))\n",
    "if(month<3 or month==12):\n",
    "    print(str(month)+\"月是冬天\")\n",
    "elif(month<6):\n",
    "    print(str(month)+\"月是春天\")\n",
    "elif(month<9):\n",
    "    print(str(month)+\"月是夏天\")\n",
    "elif(month<12):\n",
    "    print(str(month)+\"月是秋天\")    \n",
    "else:\n",
    "    print('不在範圍內')"
   ]
  }
 ],
 "metadata": {
  "kernelspec": {
   "display_name": "Python 3",
   "language": "python",
   "name": "python3"
  },
  "language_info": {
   "codemirror_mode": {
    "name": "ipython",
    "version": 3
   },
   "file_extension": ".py",
   "mimetype": "text/x-python",
   "name": "python",
   "nbconvert_exporter": "python",
   "pygments_lexer": "ipython3",
   "version": "3.10.13"
  }
 },
 "nbformat": 4,
 "nbformat_minor": 2
}
