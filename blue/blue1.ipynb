{
 "cells": [
  {
   "cell_type": "code",
   "execution_count": 15,
   "metadata": {},
   "outputs": [
    {
     "name": "stdout",
     "output_type": "stream",
     "text": [
      "奇數\n"
     ]
    }
   ],
   "source": [
    "#判斷奇偶數\n",
    "X=int(input('請輸入正整數:'))\n",
    "if (X % 2 == 0):\n",
    "    print(\"偶數\")\n",
    "else:\n",
    "    print(\"奇數\")"
   ]
  },
  {
   "cell_type": "code",
   "execution_count": 9,
   "metadata": {},
   "outputs": [
    {
     "name": "stdout",
     "output_type": "stream",
     "text": [
      "不在範圍內\n"
     ]
    }
   ],
   "source": [
    "#判斷四季\n",
    "month=int(input('請輸入月份:'))\n",
    "if(1<=month<3 or month==12):\n",
    "    print(str(month)+\"月是冬天\")\n",
    "elif(3<=month<6):\n",
    "    print(str(month)+\"月是春天\")\n",
    "elif(6<=month<9):\n",
    "    print(str(month)+\"月是夏天\")\n",
    "elif(9<=month<12):\n",
    "    print(str(month)+\"月是秋天\")    \n",
    "else:\n",
    "    print('不在範圍內')"
   ]
  },
  {
   "cell_type": "code",
   "execution_count": 18,
   "metadata": {},
   "outputs": [
    {
     "name": "stdout",
     "output_type": "stream",
     "text": [
      "姓名:徐xx, BMI:24.62,過重\n",
      "姓名:王xx, BMI:15.94,體重過輕\n",
      "姓名:張xx, BMI:23.29,正常範圍\n"
     ]
    }
   ],
   "source": [
    "source:list[dict] = [\n",
    "{'name':'徐xx','height':178,'weight':78},\n",
    "{'name':'王xx','height':168,'weight':45},\n",
    "{'name':'張xx','height':183,'weight':78},\n",
    "]\n",
    "\n",
    "for data in source:\n",
    "    bmi:float = data['weight'] / (data['height'] / 100) ** 2 \n",
    "    if bmi<18.5:\n",
    "        x=\"體重過輕\"\n",
    "    elif bmi<24:\n",
    "        x=\"正常範圍\"\n",
    "    elif bmi<27 :\n",
    "        x=\"過重\"\n",
    "    elif bmi<30 :\n",
    "        x=\"輕度肥胖\"\n",
    "    elif bmi<35 :\n",
    "        x=\"中度肥胖\"\n",
    "    else :\n",
    "        x=\"重度肥胖\"\n",
    "    print(f'姓名:{data[\"name\"]}, BMI:{bmi:.2f},{x}')\n"
   ]
  }
 ],
 "metadata": {
  "kernelspec": {
   "display_name": "Python 3",
   "language": "python",
   "name": "python3"
  },
  "language_info": {
   "codemirror_mode": {
    "name": "ipython",
    "version": 3
   },
   "file_extension": ".py",
   "mimetype": "text/x-python",
   "name": "python",
   "nbconvert_exporter": "python",
   "pygments_lexer": "ipython3",
   "version": "3.10.13"
  }
 },
 "nbformat": 4,
 "nbformat_minor": 2
}
