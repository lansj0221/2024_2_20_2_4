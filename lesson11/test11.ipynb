{
 "cells": [
  {
   "cell_type": "code",
   "execution_count": 3,
   "metadata": {},
   "outputs": [],
   "source": [
    "import requests\n",
    "from requests import Response\n",
    "def get_response() -> Response | None:\n",
    "    url_path = 'https://raw.githubusercontent.com/roberthsu2003/__2024_02_20_2_4__/main/lesson11/students.csv'\n",
    "    try:\n",
    "        response:Response =requests.get(url_path)\n",
    "        response.raise_for_status()\n",
    "        if response.status_code == 200:\n",
    "            print(\"下載成功\")\n",
    "            return response\n",
    "        else:\n",
    "            print(\"下載失敗\")\n",
    "            return None\n",
    "    except Exception as e:\n",
    "        print(e)\n",
    "        print(\"連線失敗\")\n",
    "        return None"
   ]
  },
  {
   "cell_type": "code",
   "execution_count": 5,
   "metadata": {},
   "outputs": [
    {
     "name": "stdout",
     "output_type": "stream",
     "text": [
      "下載成功\n",
      "<Response [200]>\n"
     ]
    }
   ],
   "source": [
    "response:Response | None = get_response()\n",
    "if response:\n",
    "    print(response)"
   ]
  },
  {
   "cell_type": "code",
   "execution_count": 6,
   "metadata": {},
   "outputs": [
    {
     "name": "stdout",
     "output_type": "stream",
     "text": [
      "下載成功\n"
     ]
    }
   ],
   "source": [
    "response:Response | None = get_response()\n",
    "if response:\n",
    "    rawString:str = response.text"
   ]
  },
  {
   "cell_type": "code",
   "execution_count": 7,
   "metadata": {},
   "outputs": [
    {
     "name": "stdout",
     "output_type": "stream",
     "text": [
      "[{'height': '207', 'name': '李政成', 'weight': '42'},\n",
      " {'height': '153', 'name': '艾巧夫', 'weight': '45'},\n",
      " {'height': '184', 'name': '林昱芳', 'weight': '66'},\n",
      " {'height': '162', 'name': '洪阿惠', 'weight': '58'},\n",
      " {'height': '160', 'name': '陳淑萍', 'weight': '79'},\n",
      " {'height': '191', 'name': '黃旻林', 'weight': '79'},\n",
      " {'height': '191', 'name': '陳怡伶', 'weight': '52'},\n",
      " {'height': '216', 'name': '周怡啟', 'weight': '40'},\n",
      " {'height': '192', 'name': '臧怡君', 'weight': '65'},\n",
      " {'height': '214', 'name': '林柏洋', 'weight': '56'},\n",
      " {'height': '173', 'name': '吳淑惠', 'weight': '49'},\n",
      " {'height': '207', 'name': '魏秋萍', 'weight': '62'},\n",
      " {'height': '209', 'name': '葉志峰', 'weight': '63'},\n",
      " {'height': '212', 'name': '尚偉倫', 'weight': '81'},\n",
      " {'height': '213', 'name': '張莉雯', 'weight': '56'},\n",
      " {'height': '166', 'name': '童建霖', 'weight': '43'},\n",
      " {'height': '202', 'name': '馮耀中', 'weight': '53'},\n",
      " {'height': '183', 'name': '彭虹屏', 'weight': '56'},\n",
      " {'height': '164', 'name': '黃淑芬', 'weight': '86'},\n",
      " {'height': '169', 'name': '黃善迪', 'weight': '87'},\n",
      " {'height': '218', 'name': '邱亭君', 'weight': '57'},\n",
      " {'height': '157', 'name': '游治旺', 'weight': '42'},\n",
      " {'height': '197', 'name': '林瑞喬', 'weight': '76'},\n",
      " {'height': '184', 'name': '童建霖', 'weight': '58'},\n",
      " {'height': '171', 'name': '陳淑娟', 'weight': '65'},\n",
      " {'height': '197', 'name': '林冠蕙', 'weight': '57'},\n",
      " {'height': '214', 'name': '余月修', 'weight': '68'},\n",
      " {'height': '199', 'name': '陳怡容', 'weight': '56'},\n",
      " {'height': '201', 'name': '陳建豪', 'weight': '80'},\n",
      " {'height': '218', 'name': '潘英迪', 'weight': '81'},\n",
      " {'height': '191', 'name': '錢佩豪', 'weight': '55'},\n",
      " {'height': '207', 'name': '林俊翔', 'weight': '58'},\n",
      " {'height': '178', 'name': '程玫靖', 'weight': '57'},\n",
      " {'height': '202', 'name': '黃婷婷', 'weight': '48'},\n",
      " {'height': '196', 'name': '劉慧君', 'weight': '64'},\n",
      " {'height': '174', 'name': '張俊傑', 'weight': '84'},\n",
      " {'height': '171', 'name': '王人仰', 'weight': '78'},\n",
      " {'height': '217', 'name': '趙宛真', 'weight': '76'},\n",
      " {'height': '204', 'name': '游一鈺', 'weight': '57'},\n",
      " {'height': '207', 'name': '方筠紹', 'weight': '87'},\n",
      " {'height': '207', 'name': '戚亨', 'weight': '66'},\n",
      " {'height': '180', 'name': '鄧哲榮', 'weight': '69'},\n",
      " {'height': '182', 'name': '黃淑芬', 'weight': '49'},\n",
      " {'height': '175', 'name': '趙家豪', 'weight': '40'},\n",
      " {'height': '215', 'name': '李政成', 'weight': '64'},\n",
      " {'height': '183', 'name': '尚偉倫', 'weight': '42'},\n",
      " {'height': '168', 'name': '傅佳琳', 'weight': '64'},\n",
      " {'height': '171', 'name': '蔡至剛', 'weight': '65'},\n",
      " {'height': '193', 'name': '艾巧夫', 'weight': '51'},\n",
      " {'height': '151', 'name': '陳彥治', 'weight': '64'}]\n"
     ]
    }
   ],
   "source": [
    "from io import StringIO\n",
    "import csv\n",
    "from csv import DictReader\n",
    "from pprint import pprint\n",
    "file:StringIO = StringIO(rawString)\n",
    "reader:DictReader = csv.DictReader(file)\n",
    "data:list[dict] = list(reader)\n",
    "pprint(data)"
   ]
  }
 ],
 "metadata": {
  "kernelspec": {
   "display_name": "Python 3",
   "language": "python",
   "name": "python3"
  },
  "language_info": {
   "codemirror_mode": {
    "name": "ipython",
    "version": 3
   },
   "file_extension": ".py",
   "mimetype": "text/x-python",
   "name": "python",
   "nbconvert_exporter": "python",
   "pygments_lexer": "ipython3",
   "version": "3.10.13"
  }
 },
 "nbformat": 4,
 "nbformat_minor": 2
}
