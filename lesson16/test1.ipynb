{
 "cells": [
  {
   "cell_type": "code",
   "execution_count": 14,
   "metadata": {},
   "outputs": [
    {
     "name": "stdout",
     "output_type": "stream",
     "text": [
      "        國家          日期     總確診數  新增確診數  新增死亡數\n",
      "85626   日本  2020-01-22        2      0      0\n",
      "85627   日本  2020-01-23        2      0      0\n",
      "85628   日本  2020-01-24        2      0      0\n",
      "85629   日本  2020-01-25        2      0      0\n",
      "85630   日本  2020-01-26        4      2      0\n",
      "...     ..         ...      ...    ...    ...\n",
      "164884  台灣  2022-07-02  3837856  34807     96\n",
      "164885  台灣  2022-07-03  3870528  32672     88\n",
      "164886  台灣  2022-07-04  3893643  23115     69\n",
      "164887  台灣  2022-07-05  3929627  35984    103\n",
      "164888  台灣  2022-07-06  3964188  34561     95\n",
      "\n",
      "[1800 rows x 5 columns]\n"
     ]
    }
   ],
   "source": [
    "import pandas as pd\n",
    "data1=pd.read_csv('world.csv')\n",
    "data2=data1.reindex(columns=['國家','日期','總確診數','新增確診數','新增死亡數'])\n",
    "data3=data2.loc[(data2['國家']=='台灣')|(data2['國家']=='日本')]\n",
    "print(data3)"
   ]
  }
 ],
 "metadata": {
  "kernelspec": {
   "display_name": "Python 3",
   "language": "python",
   "name": "python3"
  },
  "language_info": {
   "codemirror_mode": {
    "name": "ipython",
    "version": 3
   },
   "file_extension": ".py",
   "mimetype": "text/x-python",
   "name": "python",
   "nbconvert_exporter": "python",
   "pygments_lexer": "ipython3",
   "version": "3.10.13"
  }
 },
 "nbformat": 4,
 "nbformat_minor": 2
}
