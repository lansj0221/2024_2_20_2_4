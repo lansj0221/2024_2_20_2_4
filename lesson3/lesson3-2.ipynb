{
 "cells": [
  {
   "cell_type": "code",
   "execution_count": 3,
   "metadata": {},
   "outputs": [
    {
     "name": "stdout",
     "output_type": "stream",
     "text": [
      "半徑:100.00,圓面積:31415.926\n"
     ]
    }
   ],
   "source": [
    "#計算圓面積\n",
    "radius = eval(input(\"請輸入半徑:\"))\n",
    "PI = 3.1415926\n",
    "area = PI * radius ** 2\n",
    "print(f'半徑:{radius:.2f},圓面積:{area:.3f}')"
   ]
  },
  {
   "cell_type": "code",
   "execution_count": 6,
   "metadata": {},
   "outputs": [
    {
     "name": "stdout",
     "output_type": "stream",
     "text": [
      "半徑:100.00,圓面積:31415.927\n"
     ]
    }
   ],
   "source": [
    "#計算圓面積\n",
    "import math\n",
    "radius = eval(input(\"請輸入半徑:\"))\n",
    "#PI = 3.1415926\n",
    "area = math.pi * radius ** 2\n",
    "print(f'半徑:{radius:.2f},圓面積:{area:.3f}')"
   ]
  },
  {
   "cell_type": "code",
   "execution_count": 5,
   "metadata": {},
   "outputs": [
    {
     "data": {
      "text/plain": [
       "3.141592653589793"
      ]
     },
     "execution_count": 5,
     "metadata": {},
     "output_type": "execute_result"
    }
   ],
   "source": [
    "math.pi"
   ]
  },
  {
   "cell_type": "code",
   "execution_count": 1,
   "metadata": {},
   "outputs": [
    {
     "name": "stdout",
     "output_type": "stream",
     "text": [
      "姓名:tom\n",
      "身高:180cm\n",
      "體重:90kg\n",
      "bmi:27.78\n"
     ]
    }
   ],
   "source": [
    "n=input('姓名:')\n",
    "h=eval(input('身高:'))\n",
    "w=eval(input('體重:'))\n",
    "bmi=w/((h/100)**2)\n",
    "print(f'姓名:{n}\\n身高:{h}cm\\n體重:{w}kg\\nbmi:{bmi:.2f}')"
   ]
  }
 ],
 "metadata": {
  "kernelspec": {
   "display_name": "Python 3",
   "language": "python",
   "name": "python3"
  },
  "language_info": {
   "codemirror_mode": {
    "name": "ipython",
    "version": 3
   },
   "file_extension": ".py",
   "mimetype": "text/x-python",
   "name": "python",
   "nbconvert_exporter": "python",
   "pygments_lexer": "ipython3",
   "version": "3.10.13"
  }
 },
 "nbformat": 4,
 "nbformat_minor": 2
}
