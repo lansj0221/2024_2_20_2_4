{
 "cells": [
  {
   "cell_type": "code",
   "execution_count": 2,
   "metadata": {},
   "outputs": [
    {
     "name": "stdout",
     "output_type": "stream",
     "text": [
      "hello! python!\n"
     ]
    }
   ],
   "source": [
    "print (\"hello! python!\")"
   ]
  },
  {
   "cell_type": "code",
   "execution_count": 3,
   "metadata": {},
   "outputs": [
    {
     "data": {
      "text/plain": [
       "5"
      ]
     },
     "execution_count": 3,
     "metadata": {},
     "output_type": "execute_result"
    }
   ],
   "source": [
    "n = input('請輸入整數') \n",
    "#檢查型別\n",
    "type(n)\n",
    "\n",
    "int(n)"
   ]
  },
  {
   "cell_type": "code",
   "execution_count": 4,
   "metadata": {},
   "outputs": [
    {
     "name": "stdout",
     "output_type": "stream",
     "text": [
      "n= 5\n",
      "m= 50.8\n"
     ]
    }
   ],
   "source": [
    "n = int(input('請輸入整數'))\n",
    "m = float(input('請輸入浮點數:'))\n",
    "print(\"n=\",n)\n",
    "print(\"m=\",m)\n"
   ]
  },
  {
   "cell_type": "code",
   "execution_count": 1,
   "metadata": {},
   "outputs": [
    {
     "name": "stdout",
     "output_type": "stream",
     "text": [
      "n= 5 ,m= 50.8\n",
      "n=5,m=50.8\n"
     ]
    }
   ],
   "source": [
    "n = int(input('請輸入整數'))\n",
    "m = float(input('請輸入浮點數:'))\n",
    "print(\"n=\",n,\",m=\",m)\n",
    "print(f\"n={n},m={m}\")  #字串插補(字串格式化的簡寫)"
   ]
  }
 ],
 "metadata": {
  "kernelspec": {
   "display_name": "Python 3",
   "language": "python",
   "name": "python3"
  },
  "language_info": {
   "codemirror_mode": {
    "name": "ipython",
    "version": 3
   },
   "file_extension": ".py",
   "mimetype": "text/x-python",
   "name": "python",
   "nbconvert_exporter": "python",
   "pygments_lexer": "ipython3",
   "version": "3.10.13"
  }
 },
 "nbformat": 4,
 "nbformat_minor": 2
}
