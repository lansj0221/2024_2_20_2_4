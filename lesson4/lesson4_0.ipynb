{
 "cells": [
  {
   "cell_type": "code",
   "execution_count": null,
   "metadata": {},
   "outputs": [],
   "source": [
    "high=eval(input(\"身高cm\"))/100\n",
    "weight=eval(input(\"體重kg\"))\n",
    "bmi=weight/(high**2)\n",
    "print(f\"身高:{high*100:.0f},體重:{weight}\")\n",
    "print(f\"BMI:{bmi:.2f}\")\n"
   ]
  }
 ],
 "metadata": {
  "language_info": {
   "name": "python"
  }
 },
 "nbformat": 4,
 "nbformat_minor": 2
}
