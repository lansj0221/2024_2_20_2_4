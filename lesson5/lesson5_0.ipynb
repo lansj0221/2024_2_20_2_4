{
 "cells": [
  {
   "cell_type": "code",
   "execution_count": null,
   "metadata": {},
   "outputs": [],
   "source": [
    "try:\n",
    "    h=eval(input('身高:'))\n",
    "    w=eval(input('體重:'))\n",
    "    bmi=w/((h/100)**2)\n",
    "    print(f'你的bmi是{bmi:.3f}')\n",
    "    if bmi < 18.5:\n",
    "        print('過輕')\n",
    "    elif bmi >=18.5 and bmi < 24:\n",
    "        print(\"健康\")\n",
    "    elif bmi >=24 and bmi < 27:\n",
    "        print(\"過重\")\n",
    "    elif bmi >=27 and bmi <30:\n",
    "        print('輕度肥胖')\n",
    "    elif bmi >=30 and bmi <35:\n",
    "        print(\"中度肥胖\")\n",
    "    else:\n",
    "        print(\"重度肥胖\")\n",
    "except:\n",
    "    print(\"輸入格式錯誤\")"
   ]
  },
  {
   "cell_type": "code",
   "execution_count": null,
   "metadata": {},
   "outputs": [],
   "source": [
    "try:\n",
    "    height = eval(input(\"身高:\"))\n",
    "    weight = eval(input(\"體重:\"))\n",
    "    bmi = weight/((height/100)**2)\n",
    "    print(f'您的BMI是:{bmi:.1f}')\n",
    "    if  bmi <18.5:\n",
    "        print('您的體重:過輕')\n",
    "    elif bmi < 24:\n",
    "        print('您的體重:正常範圍')\n",
    "    elif bmi < 27:\n",
    "        print('您的體重:過重')\n",
    "    elif bmi <30:\n",
    "        print('您的體重:輕度肥胖')\n",
    "    elif bmi <35:\n",
    "        print('您的體重:中度肥胖')\n",
    "    else:\n",
    "        print('您的體重:重度肥胖')\n",
    "except:\n",
    "    print(\"格式錯誤\")"
   ]
  },
  {
   "cell_type": "code",
   "execution_count": null,
   "metadata": {},
   "outputs": [],
   "source": [
    "try:\n",
    "    height = eval(input(\"身高:\"))\n",
    "    weight = eval(input(\"體重:\"))\n",
    "    bmi = weight/((height/100)**2)\n",
    "    print(f'您的BMI是:{bmi:.1f}')\n",
    "    if  bmi >=35:\n",
    "        print('您的體重:重度肥胖')\n",
    "    elif bmi >= 30:\n",
    "        print('您的體重:中度肥胖')\n",
    "    elif bmi >= 27:\n",
    "        print('您的體重:輕度肥胖')\n",
    "    elif bmi >=24:\n",
    "        print('您的體重:過重')\n",
    "    elif bmi >=18.5:\n",
    "        print('您的體重:正常範圍')\n",
    "    else:\n",
    "        print('您的體重:過輕')\n",
    "except:\n",
    "    print(\"格式錯誤\")"
   ]
  }
 ],
 "metadata": {
  "language_info": {
   "name": "python"
  }
 },
 "nbformat": 4,
 "nbformat_minor": 2
}
