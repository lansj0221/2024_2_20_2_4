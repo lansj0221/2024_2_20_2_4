{
 "cells": [
  {
   "cell_type": "code",
   "execution_count": 1,
   "metadata": {},
   "outputs": [
    {
     "name": "stdout",
     "output_type": "stream",
     "text": [
      "1\n",
      "2\n",
      "3\n",
      "4\n",
      "5\n",
      "6\n",
      "7\n",
      "8\n",
      "9\n",
      "10\n"
     ]
    }
   ],
   "source": [
    "#1...10\n",
    "i = 1\n",
    "while i<=10:    \n",
    "    print(i)\n",
    "    i += 1"
   ]
  },
  {
   "cell_type": "code",
   "execution_count": 2,
   "metadata": {},
   "outputs": [
    {
     "name": "stdout",
     "output_type": "stream",
     "text": [
      "恭喜!已經存夠了，存了6個月的總存款為:31000元。\n"
     ]
    }
   ],
   "source": [
    "#小明想要存錢買一輛機車,機車每輛30000元，他將每月存的錢輸入，當存款足夠買機車時，就顯示提示訊息告知。\n",
    "deposit = 0\n",
    "month = 0\n",
    "while deposit < 30000:\n",
    "    month += 1\n",
    "    input_money = int(input(f\"請輸入第{month}月份的存款:\"))\n",
    "    deposit += input_money\n",
    "\n",
    "print(f\"恭喜!已經存夠了，存了{month}個月的總存款為:{deposit}元。\")"
   ]
  },
  {
   "cell_type": "code",
   "execution_count": 6,
   "metadata": {},
   "outputs": [
    {
     "name": "stdout",
     "output_type": "stream",
     "text": [
      "3的正因數有\n",
      "1,3,"
     ]
    }
   ],
   "source": [
    "try:\n",
    "    value = int(input('請輸入一個整數'))\n",
    "    print (f'{value}的正因數有')\n",
    "    for i in range(1,value+1):\n",
    "        if value % i == 0:\n",
    "            \n",
    "            print(f'{i},',end='')\n",
    "except:\n",
    "    print(\"輸入錯誤\")"
   ]
  },
  {
   "cell_type": "code",
   "execution_count": 15,
   "metadata": {},
   "outputs": [
    {
     "name": "stdout",
     "output_type": "stream",
     "text": [
      "10 的因數有:\n",
      "1, 2, 5, 10\n"
     ]
    }
   ],
   "source": [
    "voodoo = True\n",
    "\n",
    "time = 0\n",
    "\n",
    "while voodoo and time < 3:\n",
    "    \n",
    "    numStr = input('請輸入一個正整數(不含0, 輸入負數則取絕對值, 輸入錯誤3次則結束)')\n",
    "\n",
    "    try:\n",
    "        num = int(numStr)\n",
    "\n",
    "        #若是0 則故意出錯\n",
    "        if num == 0:\n",
    "            err = eval()\n",
    "\n",
    "        if num < 0:\n",
    "            num = -num\n",
    "    except:\n",
    "        print('格式錯誤')\n",
    "        time += 1\n",
    "    else:\n",
    "        voodoo = False\n",
    "        \n",
    "if time < 3:\n",
    "\n",
    "    num2 = num // 2\n",
    "\n",
    "    print(f'{num} 的因數有:')\n",
    "\n",
    "    for i in range(1, num2 + 1):\n",
    "        if num % i == 0:\n",
    "            print(i, end = ', ')\n",
    "\n",
    "    print(num)"
   ]
  },
  {
   "cell_type": "code",
   "execution_count": 18,
   "metadata": {},
   "outputs": [
    {
     "name": "stdout",
     "output_type": "stream",
     "text": [
      "10的正因數有\n",
      "1  2  5  10  "
     ]
    }
   ],
   "source": [
    "try:\n",
    "    value = int(input('請輸入一個整數'))\n",
    "    print (f'{value}的正因數有')\n",
    "    for i in range(1,value+1):\n",
    "        if value % i == 0:\n",
    "            \n",
    "            print(f'{i}',end='  ')        \n",
    "except:\n",
    "    print('輸入錯誤')"
   ]
  },
  {
   "cell_type": "code",
   "execution_count": 10,
   "metadata": {},
   "outputs": [
    {
     "name": "stdout",
     "output_type": "stream",
     "text": [
      "10的因數有:\n",
      "1 2 5 10 "
     ]
    }
   ],
   "source": [
    "try:\n",
    "    a=int(input(\"請輸入正整數\"))\n",
    "except:\n",
    "    print(\"格式錯誤\")\n",
    "else:\n",
    "    print(f'{a}的因數有:')\n",
    "    for i in range (1,a+1):\n",
    "        if a%i ==0:\n",
    "            print(f\"{i} \",end='')"
   ]
  }
 ],
 "metadata": {
  "kernelspec": {
   "display_name": "Python 3",
   "language": "python",
   "name": "python3"
  },
  "language_info": {
   "codemirror_mode": {
    "name": "ipython",
    "version": 3
   },
   "file_extension": ".py",
   "mimetype": "text/x-python",
   "name": "python",
   "nbconvert_exporter": "python",
   "pygments_lexer": "ipython3",
   "version": "3.10.13"
  }
 },
 "nbformat": 4,
 "nbformat_minor": 2
}
