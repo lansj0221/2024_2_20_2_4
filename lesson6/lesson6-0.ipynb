{
 "cells": [
  {
   "cell_type": "code",
   "execution_count": 1,
   "metadata": {},
   "outputs": [
    {
     "name": "stdout",
     "output_type": "stream",
     "text": [
      "10的因數為:\n",
      "1,2,5,10,"
     ]
    }
   ],
   "source": [
    "try: \n",
    "    x = int(input('請輸入整數:'))\n",
    "    print(f'{x}的因數為:')\n",
    "    \n",
    "    for i in range(1,x+1):\n",
    "        if x % i == 0:\n",
    "            print(f'{i}',end=',')\n",
    "        \n",
    "except:\n",
    "    print('format error')\n",
    "    "
   ]
  },
  {
   "cell_type": "code",
   "execution_count": 3,
   "metadata": {},
   "outputs": [
    {
     "name": "stdout",
     "output_type": "stream",
     "text": [
      "10的因數為:\n",
      "1,2,5,10\n"
     ]
    }
   ],
   "source": [
    "#消除10後面的,做法\n",
    "try: \n",
    "    x = int(input('請輸入整數:'))\n",
    "    print(f'{x}的因數為:')    \n",
    "    is_list = []\n",
    "    for i in range(1,x+1):\n",
    "        if x % i == 0:\n",
    "            is_list.append(str(i))\n",
    "    \n",
    "    print(','.join(is_list))\n",
    "    \n",
    "        \n",
    "except:\n",
    "    print('format error')"
   ]
  },
  {
   "cell_type": "code",
   "execution_count": 26,
   "metadata": {},
   "outputs": [
    {
     "ename": "SyntaxError",
     "evalue": "invalid syntax (708563393.py, line 2)",
     "output_type": "error",
     "traceback": [
      "\u001b[0;36m  Cell \u001b[0;32mIn[26], line 2\u001b[0;36m\u001b[0m\n\u001b[0;31m    h=pyip.inputFloat('請輸入身高(cm):\\n'){h}\u001b[0m\n\u001b[0m                                     ^\u001b[0m\n\u001b[0;31mSyntaxError\u001b[0m\u001b[0;31m:\u001b[0m invalid syntax\n"
     ]
    }
   ],
   "source": [
    "import pyinputplus as pyip\n",
    "h=pyip.inputFloat('請輸入身高(cm):\\n')\n",
    "w=pyip.inputFloat('請輸入體重(kg):\\n')\n",
    "bmi=w/((h/100)**2)\n",
    "print(f'你的bmi是{bmi:.3f}')\n",
    "if bmi < 18.5:\n",
    "    print('過輕')\n",
    "elif bmi < 24:\n",
    "    print(\"健康\")\n",
    "elif bmi < 27:\n",
    "    print(\"過重\")\n",
    "elif bmi <30:\n",
    "    print(\"輕度肥胖\")\n",
    "elif bmi <35:\n",
    "    print(\"中度肥胖\")\n",
    "else:\n",
    "    print(\"重度肥胖\")\n",
    "\n",
    "   "
   ]
  },
  {
   "cell_type": "code",
   "execution_count": 3,
   "metadata": {},
   "outputs": [
    {
     "name": "stdout",
     "output_type": "stream",
     "text": [
      "請輸入身高(公分)\n",
      "請輸入體重(公斤)\n",
      "您的BMI是: 24.7\n",
      "您的體重: 過重\n"
     ]
    }
   ],
   "source": [
    "import pyinputplus as pyip\n",
    "    \n",
    "height = pyip.inputFloat('請輸入身高(公分)\\n', greaterThan=0, max=300)\n",
    "\n",
    "weight = pyip.inputFloat('請輸入體重(公斤)\\n', greaterThan=0, max=300)\n",
    "\n",
    "bmi = weight / (height / 100) ** 2\n",
    "\n",
    "print(f'您的BMI是: {bmi:.1f}')\n",
    "\n",
    "if bmi < 18.5:\n",
    "    msg = '體重過輕'\n",
    "elif bmi < 24:\n",
    "    msg = '正常範圍'\n",
    "elif bmi < 27:\n",
    "    msg = '過重'\n",
    "elif bmi < 30:\n",
    "    msg = '輕度肥胖'\n",
    "elif bmi < 35:\n",
    "    msg = '中度肥胖'\n",
    "else:\n",
    "    msg = '重度肥胖'\n",
    "\n",
    "print(f'您的體重: {msg}')"
   ]
  },
  {
   "cell_type": "code",
   "execution_count": 21,
   "metadata": {},
   "outputs": [
    {
     "name": "stdout",
     "output_type": "stream",
     "text": [
      "身高cm體重kg您的BMI是24.691\n",
      "您的體重:過重\n"
     ]
    }
   ],
   "source": [
    "import pyinputplus as pyip\n",
    "\n",
    "high=pyip.inputFloat(\"身高cm\")/100\n",
    "weight=pyip.inputFloat(\"體重kg\")\n",
    "\n",
    "bmi=weight/(high**2)\n",
    "print(f\"您的BMI是{bmi:.3f}\")\n",
    "print(\"您的體重:\",end='')\n",
    "if bmi<18.5:\n",
    "    print(\"體重過輕\")\n",
    "elif bmi<24:\n",
    "    print(\"正常範圍\")\n",
    "elif bmi<27 :\n",
    "    print(\"過重\")\n",
    "elif bmi<30 :\n",
    "    print(\"輕度肥胖\")\n",
    "elif bmi<35 :\n",
    "    print(\"中度肥胖\")\n",
    "else :\n",
    "    print(\"重度肥胖\")"
   ]
  },
  {
   "cell_type": "code",
   "execution_count": 20,
   "metadata": {},
   "outputs": [
    {
     "name": "stdout",
     "output_type": "stream",
     "text": [
      "你的bmi是24.691\n",
      "過重\n"
     ]
    }
   ],
   "source": [
    "try:\n",
    "    h=eval(input('身高:'))\n",
    "    w=eval(input('體重:'))\n",
    "    bmi=w/((h/100)**2)\n",
    "    print(f'你的bmi是{bmi:.3f}')\n",
    "    if bmi < 18.5:\n",
    "        print('過輕')\n",
    "    elif bmi >=18.5 and bmi < 24:\n",
    "        print(\"健康\")\n",
    "    elif bmi >=24 and bmi < 27:\n",
    "        print(\"過重\")\n",
    "    elif bmi >=27 and bmi <30:\n",
    "        print('輕度肥胖')\n",
    "    elif bmi >=30 and bmi <35:\n",
    "        print(\"中度肥胖\")\n",
    "    else:\n",
    "        print(\"重度肥胖\")\n",
    "except:\n",
    "    print(\"輸入格式錯誤\")"
   ]
  }
 ],
 "metadata": {
  "kernelspec": {
   "display_name": "Python 3",
   "language": "python",
   "name": "python3"
  },
  "language_info": {
   "codemirror_mode": {
    "name": "ipython",
    "version": 3
   },
   "file_extension": ".py",
   "mimetype": "text/x-python",
   "name": "python",
   "nbconvert_exporter": "python",
   "pygments_lexer": "ipython3",
   "version": "3.10.13"
  }
 },
 "nbformat": 4,
 "nbformat_minor": 2
}
