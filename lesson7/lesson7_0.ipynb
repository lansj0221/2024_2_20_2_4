{
 "cells": [
  {
   "cell_type": "code",
   "execution_count": null,
   "metadata": {},
   "outputs": [],
   "source": [
    "import pyinputplus as pyip\n",
    "    \n",
    "height:float = pyip.inputFloat('請輸入身高(公分)\\n', greaterThan=0, max=300)\n",
    "\n",
    "weight:float = pyip.inputFloat('請輸入體重(公斤)\\n', greaterThan=0, max=300)\n",
    "\n",
    "bmi:float = weight / (height / 100) ** 2\n",
    "\n",
    "print(f'您的BMI是: {bmi:.1f}')\n",
    "\n",
    "if bmi < 18.5:\n",
    "    msg = '體重過輕'\n",
    "elif bmi < 24:\n",
    "    msg = '正常範圍'\n",
    "elif bmi < 27:\n",
    "    msg = '過重'\n",
    "elif bmi < 30:\n",
    "    msg = '輕度肥胖'\n",
    "elif bmi < 35:\n",
    "    msg = '中度肥胖'\n",
    "else:\n",
    "    msg = '重度肥胖'\n",
    "\n",
    "print(f'您的體重: {msg}')"
   ]
  },
  {
   "cell_type": "code",
   "execution_count": null,
   "metadata": {},
   "outputs": [],
   "source": [
    "try:\n",
    "    height=eval(input('請輸入身高(公分):'))\n",
    "    try:\n",
    "        weight=eval(input('請輸入體重(公斤):'))\n",
    "        bmi=weight/(height/100)**2\n",
    "        print(f'身高:{height}cm, 體重:{weight}公斤\\n您的BMI是{bmi:.2f}')\n",
    "        if bmi < 18.5:\n",
    "            print('您的體重:過輕')\n",
    "        elif bmi >=18.5 and bmi <24:\n",
    "            print('您的體重:健康正常範圍')\n",
    "        elif bmi >=24 and bmi <27:\n",
    "            print('您的體重:過重')\n",
    "        elif bmi >=27 and bmi <30:\n",
    "            print('您的體重:輕度肥胖')\n",
    "        elif bmi >=30 and bmi <35:\n",
    "            print('您的體重:中度肥胖')\n",
    "        else:\n",
    "            print('您的體重:重度肥胖')\n",
    "    except:\n",
    "        print('體重格式輸入錯誤')\n",
    "except:\n",
    "    print('身高格式輸入有誤')"
   ]
  },
  {
   "cell_type": "code",
   "execution_count": 9,
   "metadata": {},
   "outputs": [
    {
     "name": "stdout",
     "output_type": "stream",
     "text": [
      "您的BMI是24.691\n",
      "您的體重:過重\n"
     ]
    }
   ],
   "source": [
    "import pyinputplus as pyip\n",
    "\n",
    "def input_bmi(a:str,min:float=0 , max:float=100 )->float:\n",
    "    try:\n",
    "        a=float(a)\n",
    "\n",
    "    except:\n",
    "        return -1.0\n",
    "    \n",
    "    if min<=a and a<=max :\n",
    "        return a\n",
    "    else :\n",
    "        return -1.0\n",
    "\n",
    "def main():\n",
    "    high=input_bmi(input(\"身高cm\"),max=1000)\n",
    "    weight=input_bmi(input(\"體重kg\"),max=1000)#\"體重kg\"\n",
    "    while high <0:\n",
    "        print(\"輸入錯誤\")\n",
    "        high=input_bmi(input(\"身高cm\"),max=1000)\n",
    "\n",
    "    while weight<0:\n",
    "        print(\"輸入錯誤\")\n",
    "        weight=input_bmi(input(\"體重kg\"),max=1000)#\"體重kg\"\n",
    "\n",
    "    bmi=weight/((high/100)**2)\n",
    "    print(f\"您的BMI是{bmi:.3f}\")\n",
    "    print(\"您的體重:\",end='')\n",
    "    if bmi<18.5:\n",
    "        print(\"體重過輕\")\n",
    "    elif bmi<24:\n",
    "        print(\"正常範圍\")\n",
    "    elif bmi<27 :\n",
    "        print(\"過重\")\n",
    "    elif bmi<30 :\n",
    "        print(\"輕度肥胖\")\n",
    "    elif bmi<35 :\n",
    "        print(\"中度肥胖\")\n",
    "    else :\n",
    "        print(\"重度肥胖\")\n",
    "    return 0\n",
    "\n",
    "if __name__==\"__main__\":\n",
    "    main()"
   ]
  },
  {
   "cell_type": "code",
   "execution_count": 8,
   "metadata": {},
   "outputs": [
    {
     "name": "stdout",
     "output_type": "stream",
     "text": [
      "輸入數值超過300\n",
      "您的身高:300.0 公分, 您的體重:200.0 公斤\n",
      "您的BMI是: 22.22\n",
      "您的體重: 正常範圍\n"
     ]
    }
   ],
   "source": [
    "def inputFloat(prompt:str, min:float, max:float) -> float:\n",
    "    resultStr = input(f'{prompt} ({min}-{max})')\n",
    "    try:\n",
    "        result = float(resultStr)        \n",
    "    except:\n",
    "        print(f'輸入錯誤格式:{resultStr}')\n",
    "        return inputFloat(prompt,min,max)\n",
    "    if min != None and result < min:\n",
    "        print(f'輸入數值低於{min}')\n",
    "        return inputFloat(prompt,min,max)\n",
    "    if max != None and result > max:\n",
    "        print(f'輸入數值超過{max}')\n",
    "        return inputFloat(prompt,min,max)\n",
    "    return float(result)\n",
    "\n",
    "def main():\n",
    "    height = inputFloat(\"請輸入身高(公分):\",min=0 , max=300)\n",
    "    weight = inputFloat(\"請輸入體重(公斤):\",min=0 , max=300)\n",
    "    bmi = weight / (height / 100) ** 2\n",
    "    print(f'您的身高:{height} 公分, 您的體重:{weight} 公斤\\n您的BMI是: {bmi:.2f}')\n",
    "\n",
    "    if bmi < 18.5:\n",
    "        msg = '體重過輕'\n",
    "    elif bmi < 24:\n",
    "        msg = '正常範圍'\n",
    "    elif bmi < 27:\n",
    "        msg = '過重'\n",
    "    elif bmi < 30:\n",
    "        msg = '輕度肥胖'\n",
    "    elif bmi < 35:\n",
    "        msg = '中度肥胖'\n",
    "    else:\n",
    "        msg = '重度肥胖'\n",
    "\n",
    "    print(f'您的體重: {msg}')\n",
    "    \n",
    "if __name__ == \"__main__\":\n",
    "    main()"
   ]
  },
  {
   "cell_type": "code",
   "execution_count": null,
   "metadata": {},
   "outputs": [],
   "source": [
    "import pyinputplus as pyip\n",
    "def inputFloat(prompt:str,min:float,max:float)->float:\n",
    "\n",
    "height = inputFloat('請輸入身高(cm):')\n",
    "\n",
    "weight = inputFloat('請輸入體重(kg)')\n",
    "\n",
    "bmi = weight / (height / 100) ** 2\n",
    "\n",
    "print(f'您的BMI是: {bmi:.1f}')\n",
    "\n",
    "if bmi < 18.5:\n",
    "    msg = '體重過輕'\n",
    "elif bmi < 24:\n",
    "    msg = '正常範圍'\n",
    "elif bmi < 27:\n",
    "    msg = '過重'\n",
    "elif bmi < 30:\n",
    "    msg = '輕度肥胖'\n",
    "elif bmi < 35:\n",
    "    msg = '中度肥胖'\n",
    "else:\n",
    "    msg = '重度肥胖'\n",
    "\n",
    "print(f'您的體重: {msg}')"
   ]
  },
  {
   "cell_type": "code",
   "execution_count": 50,
   "metadata": {},
   "outputs": [
    {
     "name": "stdout",
     "output_type": "stream",
     "text": [
      "偶數\n"
     ]
    }
   ],
   "source": [
    "\n"
   ]
  }
 ],
 "metadata": {
  "kernelspec": {
   "display_name": "Python 3",
   "language": "python",
   "name": "python3"
  },
  "language_info": {
   "codemirror_mode": {
    "name": "ipython",
    "version": 3
   },
   "file_extension": ".py",
   "mimetype": "text/x-python",
   "name": "python",
   "nbconvert_exporter": "python",
   "pygments_lexer": "ipython3",
   "version": "3.10.13"
  }
 },
 "nbformat": 4,
 "nbformat_minor": 2
}
