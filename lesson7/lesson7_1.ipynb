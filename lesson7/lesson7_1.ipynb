{
 "cells": [
  {
   "cell_type": "code",
   "execution_count": null,
   "metadata": {},
   "outputs": [],
   "source": [
    "#自訂function\n",
    "#沒有參數\n",
    "#沒有傳出值\n",
    "\n",
    "#定義function\n",
    "def sayHello()->None:\n",
    "    print(\"Hello! World!\")\n",
    "\n",
    "sayHello()"
   ]
  },
  {
   "cell_type": "code",
   "execution_count": null,
   "metadata": {},
   "outputs": [],
   "source": [
    "#自訂function\n",
    "#1個參數\n",
    "#沒有傳出值\n",
    "\n",
    "def hello_friend(name:str)->None:\n",
    "    print(f\"Hello! {name}\")\n",
    "\n",
    "#呼叫function\n",
    "hello_friend(\"Robert\")"
   ]
  },
  {
   "cell_type": "code",
   "execution_count": null,
   "metadata": {},
   "outputs": [],
   "source": [
    "#自訂function\n",
    "#1個參數\n",
    "#有傳出值字串\n",
    "\n",
    "def hello_again(name:str)->str:\n",
    "    return f'hello {name} again!'\n",
    "\n",
    "message:str = hello_again(\"robert\")\n",
    "print(message)"
   ]
  }
 ],
 "metadata": {
  "language_info": {
   "name": "python"
  }
 },
 "nbformat": 4,
 "nbformat_minor": 2
}
